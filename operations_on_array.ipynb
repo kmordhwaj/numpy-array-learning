{
 "cells": [
  {
   "cell_type": "markdown",
   "id": "97a0246a",
   "metadata": {},
   "source": [
    "# Arithmetic operations on numpy array"
   ]
  },
  {
   "cell_type": "code",
   "execution_count": null,
   "id": "ae21119f",
   "metadata": {},
   "outputs": [],
   "source": [
    "# a+b    np.add(a,b)\n",
    "# a-b    np.subtract(a,b)\n",
    "# a*b    np.multiply(a,b)\n",
    "# a/b    np.divide(a,b)\n",
    "# a%b    np.mod(a,b)\n",
    "# a**b   np.power(a,b)\n",
    "# 1/a    np.reciprocal(a)"
   ]
  },
  {
   "cell_type": "markdown",
   "id": "c4d41768",
   "metadata": {},
   "source": [
    "# 1-D array"
   ]
  },
  {
   "cell_type": "code",
   "execution_count": 1,
   "id": "6729bc11",
   "metadata": {},
   "outputs": [],
   "source": [
    "import numpy as np"
   ]
  },
  {
   "cell_type": "code",
   "execution_count": 2,
   "id": "90fce80f",
   "metadata": {},
   "outputs": [
    {
     "name": "stdout",
     "output_type": "stream",
     "text": [
      "[4 5 6 7]\n"
     ]
    }
   ],
   "source": [
    "a = np.array([1,2,3,4])\n",
    "res = a + 3\n",
    "print(res)"
   ]
  },
  {
   "cell_type": "code",
   "execution_count": 3,
   "id": "1164fc13",
   "metadata": {},
   "outputs": [
    {
     "name": "stdout",
     "output_type": "stream",
     "text": [
      "[2 4 6 8]\n"
     ]
    }
   ],
   "source": [
    "a = np.array([1,2,3,4])\n",
    "b = np.array([1,2,3,4])\n",
    "\n",
    "res = a + b\n",
    "print(res)"
   ]
  },
  {
   "cell_type": "code",
   "execution_count": 4,
   "id": "2cc50f1d",
   "metadata": {},
   "outputs": [
    {
     "name": "stdout",
     "output_type": "stream",
     "text": [
      "[-2 -1  0  1]\n"
     ]
    }
   ],
   "source": [
    "a = np.array([1,2,3,4])\n",
    "res = a - 3\n",
    "print(res)"
   ]
  },
  {
   "cell_type": "code",
   "execution_count": 5,
   "id": "efb5d4fc",
   "metadata": {},
   "outputs": [
    {
     "name": "stdout",
     "output_type": "stream",
     "text": [
      "[ 3  6  9 12]\n"
     ]
    }
   ],
   "source": [
    "a = np.array([1,2,3,4])\n",
    "res = a * 3\n",
    "print(res)"
   ]
  },
  {
   "cell_type": "code",
   "execution_count": 6,
   "id": "74c438bf",
   "metadata": {},
   "outputs": [
    {
     "name": "stdout",
     "output_type": "stream",
     "text": [
      "[0.33333333 0.66666667 1.         1.33333333]\n"
     ]
    }
   ],
   "source": [
    "a = np.array([1,2,3,4])\n",
    "res = a / 3\n",
    "print(res)"
   ]
  },
  {
   "cell_type": "code",
   "execution_count": 7,
   "id": "e70d9f60",
   "metadata": {},
   "outputs": [
    {
     "name": "stdout",
     "output_type": "stream",
     "text": [
      "[1 2 0 1]\n"
     ]
    }
   ],
   "source": [
    "a = np.array([1,2,3,4])\n",
    "res = a % 3\n",
    "print(res)"
   ]
  },
  {
   "cell_type": "code",
   "execution_count": 8,
   "id": "dbf47032",
   "metadata": {},
   "outputs": [
    {
     "name": "stdout",
     "output_type": "stream",
     "text": [
      "[2 4 6 8]\n"
     ]
    }
   ],
   "source": [
    "a = np.array([1,2,3,4])\n",
    "b = np.array([1,2,3,4])\n",
    "\n",
    "res = np.add(a, b)\n",
    "print(res)"
   ]
  },
  {
   "cell_type": "code",
   "execution_count": 9,
   "id": "eed2e278",
   "metadata": {},
   "outputs": [
    {
     "name": "stdout",
     "output_type": "stream",
     "text": [
      "[4 5 6 7]\n"
     ]
    }
   ],
   "source": [
    "a = np.array([1,2,3,4])\n",
    "\n",
    "res = np.add(a, 3)\n",
    "print(res)"
   ]
  },
  {
   "cell_type": "code",
   "execution_count": 13,
   "id": "e50058ea",
   "metadata": {},
   "outputs": [
    {
     "name": "stdout",
     "output_type": "stream",
     "text": [
      "[1 0 0 0]\n"
     ]
    }
   ],
   "source": [
    "a = np.array([1,2,3,4])\n",
    "\n",
    "res = np.reciprocal(a)\n",
    "print(res)"
   ]
  },
  {
   "cell_type": "markdown",
   "id": "6e8b9dfa",
   "metadata": {},
   "source": [
    "# 2-D array"
   ]
  },
  {
   "cell_type": "code",
   "execution_count": 11,
   "id": "4886922c",
   "metadata": {},
   "outputs": [
    {
     "name": "stdout",
     "output_type": "stream",
     "text": [
      "[[15 30 42 59]\n",
      " [15 65 65 64]]\n"
     ]
    }
   ],
   "source": [
    "a = np.array([[1,8,12,17], [14,20,30,40]])\n",
    "b = np.array([[14,22,30,42], [1,45,35,24]])\n",
    "\n",
    "res = a + b\n",
    "print(res)"
   ]
  },
  {
   "cell_type": "code",
   "execution_count": 12,
   "id": "6b7f8f3f",
   "metadata": {},
   "outputs": [
    {
     "name": "stdout",
     "output_type": "stream",
     "text": [
      "[[  14  176  360  714]\n",
      " [  14  900 1050  960]]\n"
     ]
    }
   ],
   "source": [
    "a = np.array([[1,8,12,17], [14,20,30,40]])\n",
    "b = np.array([[14,22,30,42], [1,45,35,24]])\n",
    "\n",
    "res = a * b\n",
    "print(res)"
   ]
  },
  {
   "cell_type": "markdown",
   "id": "335ed61c",
   "metadata": {},
   "source": [
    "# Other Arithmetic operation"
   ]
  },
  {
   "cell_type": "code",
   "execution_count": 14,
   "id": "ba0ec1e0",
   "metadata": {},
   "outputs": [],
   "source": [
    "# np.min(x)\n",
    "# np.max(x)\n",
    "# np.argmin(x)\n",
    "# np.argmax(x)\n",
    "# np.sqrt(x)\n",
    "# np.sin(x)\n",
    "# np.cos(x)\n",
    "# np.cumsum(x)"
   ]
  },
  {
   "cell_type": "code",
   "execution_count": 16,
   "id": "9b78d254",
   "metadata": {},
   "outputs": [
    {
     "name": "stdout",
     "output_type": "stream",
     "text": [
      "Max:  8 , Max at position:  2\n",
      "Min:  2 , Min at position:  1\n"
     ]
    }
   ],
   "source": [
    "a = np.array([3, 2, 8, 5, 4, 7])\n",
    "print(\"Max: \", np.max(a), \", Max at position: \", np.argmax(a))\n",
    "print(\"Min: \", np.min(a), \", Min at position: \", np.argmin(a))"
   ]
  },
  {
   "cell_type": "code",
   "execution_count": 20,
   "id": "78578829",
   "metadata": {},
   "outputs": [
    {
     "name": "stdout",
     "output_type": "stream",
     "text": [
      "[2 2 3]\n",
      "[2 2]\n",
      "[9 5 6]\n",
      "[5 9]\n"
     ]
    }
   ],
   "source": [
    "a = np.array([[2, 5, 3], [9, 2, 6]])\n",
    "print(np.min(a, axis=0)) # min along column, and axis (0 -> along column and 1 -> along row for 2-d)\n",
    "print(np.min(a, axis=1)) # min along row\n",
    "print(np.max(a, axis=0)) # max along column\n",
    "print(np.max(a, axis=1)) # max along row"
   ]
  },
  {
   "cell_type": "code",
   "execution_count": 21,
   "id": "73c6a7ae",
   "metadata": {},
   "outputs": [
    {
     "name": "stdout",
     "output_type": "stream",
     "text": [
      "Sq root:  [1.73205081 1.41421356 2.82842712 2.23606798 2.         2.64575131]\n"
     ]
    }
   ],
   "source": [
    "a = np.array([3, 2, 8, 5, 4, 7])\n",
    "print(\"Sq root: \", np.sqrt(a))"
   ]
  },
  {
   "cell_type": "code",
   "execution_count": 23,
   "id": "5e77e70e",
   "metadata": {},
   "outputs": [
    {
     "name": "stdout",
     "output_type": "stream",
     "text": [
      "Sin:  [ 0.85090352 -0.98803162 -0.80115264  0.          0.46774516  0.77389068]\n"
     ]
    }
   ],
   "source": [
    "a = np.array([45, 30, 180, 0, 145, 70])\n",
    "print(\"Sin: \", np.sin(a))"
   ]
  },
  {
   "cell_type": "code",
   "execution_count": 24,
   "id": "439d71ea",
   "metadata": {},
   "outputs": [
    {
     "name": "stdout",
     "output_type": "stream",
     "text": [
      "Cos:  [ 0.52532199  0.15425145 -0.59846007  1.          0.88386337  0.6333192 ]\n"
     ]
    }
   ],
   "source": [
    "a = np.array([45, 30, 180, 0, 145, 70])\n",
    "print(\"Cos: \", np.cos(a))"
   ]
  },
  {
   "cell_type": "code",
   "execution_count": 25,
   "id": "c980c90c",
   "metadata": {},
   "outputs": [
    {
     "name": "stdout",
     "output_type": "stream",
     "text": [
      "Cummulative Sum:  [ 45  75 255 255 400 470]\n"
     ]
    }
   ],
   "source": [
    "a = np.array([45, 30, 180, 0, 145, 70])\n",
    "print(\"Cummulative Sum: \", np.cumsum(a)) # first, then first two add, then first three add and so on"
   ]
  },
  {
   "cell_type": "code",
   "execution_count": null,
   "id": "9c566ef0",
   "metadata": {},
   "outputs": [],
   "source": []
  }
 ],
 "metadata": {
  "kernelspec": {
   "display_name": "Python 3 (ipykernel)",
   "language": "python",
   "name": "python3"
  },
  "language_info": {
   "codemirror_mode": {
    "name": "ipython",
    "version": 3
   },
   "file_extension": ".py",
   "mimetype": "text/x-python",
   "name": "python",
   "nbconvert_exporter": "python",
   "pygments_lexer": "ipython3",
   "version": "3.11.5"
  }
 },
 "nbformat": 4,
 "nbformat_minor": 5
}
