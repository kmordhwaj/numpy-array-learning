{
 "cells": [
  {
   "cell_type": "markdown",
   "id": "e12968e3",
   "metadata": {},
   "source": [
    "# Copy and View in NumPy Arrays"
   ]
  },
  {
   "cell_type": "code",
   "execution_count": null,
   "id": "b1d3fe57",
   "metadata": {},
   "outputs": [],
   "source": [
    "# difference betwn Copy and View\n",
    "#              Copy                              View\n",
    "# 1. copy owns self data.                  view doesnt own self data (just like mirror replica)\n",
    "# 2. copy of an array is new array.        replica/view of original array\n",
    "# 3. changes made on copy array doesnt     any changes on view array will alter/affect original\n",
    "#    alter original array                  array and changes upon original array will reflect on \n",
    "#                                          copied/view array"
   ]
  },
  {
   "cell_type": "code",
   "execution_count": 1,
   "id": "c713322f",
   "metadata": {},
   "outputs": [],
   "source": [
    "import numpy as np`"
   ]
  },
  {
   "cell_type": "code",
   "execution_count": 4,
   "id": "bd2e176b",
   "metadata": {},
   "outputs": [
    {
     "name": "stdout",
     "output_type": "stream",
     "text": [
      "Array:  [5 2 3 4]\n",
      "Array Copy:  [1 2 3 4]\n"
     ]
    }
   ],
   "source": [
    "# copy using copy\n",
    "arr = np.array([1,2,3,4])\n",
    "co = arr.copy()\n",
    "arr[0] = 5 # change in original array\n",
    "\n",
    "print(\"Array: \",arr)     #reflected\n",
    "print(\"Array Copy: \",co)"
   ]
  },
  {
   "cell_type": "code",
   "execution_count": 5,
   "id": "f2a1e170",
   "metadata": {},
   "outputs": [
    {
     "name": "stdout",
     "output_type": "stream",
     "text": [
      "Array:  [5 2 3 4]\n",
      "Array Copy:  [5 2 3 4]\n"
     ]
    }
   ],
   "source": [
    "# copy using view\n",
    "arr = np.array([1,2,3,4])\n",
    "vi = arr.view()\n",
    "arr[0] = 5 # change in original array\n",
    "\n",
    "print(\"Array: \",arr)     #reflected\n",
    "print(\"Array Copy: \",vi) #reflected"
   ]
  },
  {
   "cell_type": "code",
   "execution_count": null,
   "id": "689481dd",
   "metadata": {},
   "outputs": [],
   "source": []
  }
 ],
 "metadata": {
  "kernelspec": {
   "display_name": "Python 3 (ipykernel)",
   "language": "python",
   "name": "python3"
  },
  "language_info": {
   "codemirror_mode": {
    "name": "ipython",
    "version": 3
   },
   "file_extension": ".py",
   "mimetype": "text/x-python",
   "name": "python",
   "nbconvert_exporter": "python",
   "pygments_lexer": "ipython3",
   "version": "3.11.5"
  }
 },
 "nbformat": 4,
 "nbformat_minor": 5
}
