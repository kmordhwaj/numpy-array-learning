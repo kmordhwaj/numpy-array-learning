{
 "cells": [
  {
   "cell_type": "markdown",
   "id": "1226b718",
   "metadata": {},
   "source": [
    "# Array and Lists"
   ]
  },
  {
   "cell_type": "code",
   "execution_count": 6,
   "id": "f04701dc",
   "metadata": {},
   "outputs": [
    {
     "name": "stdout",
     "output_type": "stream",
     "text": [
      "[1 2 3 4]\n",
      "<class 'numpy.ndarray'>\n",
      "1\n"
     ]
    }
   ],
   "source": [
    "import numpy as np\n",
    "\n",
    "x = np.array([1,2,3,4])\n",
    "print(x)\n",
    "print(type(x))\n",
    "x\n",
    "print(x.ndim)"
   ]
  },
  {
   "cell_type": "code",
   "execution_count": 2,
   "id": "39b96940",
   "metadata": {},
   "outputs": [
    {
     "name": "stdout",
     "output_type": "stream",
     "text": [
      "[1, 2, 3, 4]\n",
      "<class 'list'>\n"
     ]
    },
    {
     "data": {
      "text/plain": [
       "[1, 2, 3, 4]"
      ]
     },
     "execution_count": 2,
     "metadata": {},
     "output_type": "execute_result"
    }
   ],
   "source": [
    "y = [1, 2, 3, 4]\n",
    "print(y)\n",
    "print(type(y))\n",
    "y"
   ]
  },
  {
   "cell_type": "markdown",
   "id": "4d229522",
   "metadata": {},
   "source": [
    "# Array generate with input"
   ]
  },
  {
   "cell_type": "code",
   "execution_count": 7,
   "id": "cc8a2f35",
   "metadata": {},
   "outputs": [
    {
     "name": "stdout",
     "output_type": "stream",
     "text": [
      "enter:56\n",
      "enter:45\n",
      "enter:45\n",
      "enter:56\n",
      "[56 45 45 56]\n",
      "1\n"
     ]
    }
   ],
   "source": [
    "l = []\n",
    "for i in range(1, 5):\n",
    "    inp_1 = int(input(\"enter:\"))\n",
    "    l.append(inp_1)\n",
    "    \n",
    "ar = np.array(l)\n",
    "print(ar)\n",
    "print(ar.ndim)"
   ]
  },
  {
   "cell_type": "markdown",
   "id": "235b5c40",
   "metadata": {},
   "source": [
    "# 2-D 3-D Array"
   ]
  },
  {
   "cell_type": "code",
   "execution_count": 8,
   "id": "c291f5d7",
   "metadata": {},
   "outputs": [
    {
     "name": "stdout",
     "output_type": "stream",
     "text": [
      "[[ 1  2 34  5]\n",
      " [35  4  2  1]]\n",
      "2\n"
     ]
    }
   ],
   "source": [
    "ar2 = np.array([[1,2,34,5], [35,4,2,1]])\n",
    "print(ar2)\n",
    "print(ar2.ndim)"
   ]
  },
  {
   "cell_type": "code",
   "execution_count": 9,
   "id": "d548c4c8",
   "metadata": {},
   "outputs": [
    {
     "name": "stdout",
     "output_type": "stream",
     "text": [
      "[[[2 4 8 7]\n",
      "  [2 5 1 5]\n",
      "  [1 2 4 9]]]\n",
      "3\n"
     ]
    }
   ],
   "source": [
    "ar3 = np.array([[[2, 4, 8, 7], [2, 5, 1, 5], [1, 2, 4, 9]]])\n",
    "print(ar3)\n",
    "print(ar3.ndim)"
   ]
  },
  {
   "cell_type": "code",
   "execution_count": 10,
   "id": "a2c5c340",
   "metadata": {},
   "outputs": [
    {
     "name": "stdout",
     "output_type": "stream",
     "text": [
      "[[[[[[[[[[1 2 8 7]]]]]]]]]]\n",
      "10\n"
     ]
    }
   ],
   "source": [
    "arn = np.array([1, 2, 8, 7], ndmin = 10)\n",
    "print(arn)\n",
    "print(arn.ndim)"
   ]
  },
  {
   "cell_type": "markdown",
   "id": "ec3cb974",
   "metadata": {},
   "source": [
    "# Zeros array"
   ]
  },
  {
   "cell_type": "code",
   "execution_count": 12,
   "id": "dacb9f85",
   "metadata": {},
   "outputs": [
    {
     "name": "stdout",
     "output_type": "stream",
     "text": [
      "[0. 0. 0. 0.]\n",
      "\n",
      "[[0. 0. 0. 0.]\n",
      " [0. 0. 0. 0.]\n",
      " [0. 0. 0. 0.]]\n"
     ]
    }
   ],
   "source": [
    "ar_zero14 = np.zeros(4) # 1-d array\n",
    "ar_zero34 = np.zeros((3, 4))\n",
    "\n",
    "print(ar_zero14)\n",
    "print()\n",
    "print(ar_zero34)"
   ]
  },
  {
   "cell_type": "markdown",
   "id": "b869d732",
   "metadata": {},
   "source": [
    "# Ones"
   ]
  },
  {
   "cell_type": "code",
   "execution_count": 14,
   "id": "8a14f9d9",
   "metadata": {},
   "outputs": [
    {
     "name": "stdout",
     "output_type": "stream",
     "text": [
      "[1. 1. 1. 1.]\n",
      "\n",
      "[[1. 1. 1. 1.]\n",
      " [1. 1. 1. 1.]\n",
      " [1. 1. 1. 1.]]\n"
     ]
    }
   ],
   "source": [
    "ar_ones14 = np.ones(4) # 1-d array\n",
    "ar_ones34 = np.ones((3, 4))\n",
    "\n",
    "print(ar_ones14)\n",
    "print()\n",
    "print(ar_ones34)"
   ]
  },
  {
   "cell_type": "markdown",
   "id": "9decaac1",
   "metadata": {},
   "source": [
    "# Empty Array"
   ]
  },
  {
   "cell_type": "code",
   "execution_count": 16,
   "id": "15109959",
   "metadata": {},
   "outputs": [
    {
     "name": "stdout",
     "output_type": "stream",
     "text": [
      "[ 1.    2.75  6.   10.75 17.  ]\n"
     ]
    }
   ],
   "source": [
    "ar_em = np.empty(5) #last memory will come\n",
    "print(ar_em)"
   ]
  },
  {
   "cell_type": "markdown",
   "id": "c6706cf3",
   "metadata": {},
   "source": [
    "# Range"
   ]
  },
  {
   "cell_type": "code",
   "execution_count": 18,
   "id": "022e96b5",
   "metadata": {},
   "outputs": [
    {
     "name": "stdout",
     "output_type": "stream",
     "text": [
      "[0 1 2 3 4]\n"
     ]
    }
   ],
   "source": [
    "ar_rn = np.arange(5)\n",
    "print(ar_rn)"
   ]
  },
  {
   "cell_type": "markdown",
   "id": "2e874058",
   "metadata": {},
   "source": [
    "# Identity matrix array"
   ]
  },
  {
   "cell_type": "code",
   "execution_count": 20,
   "id": "03222b98",
   "metadata": {},
   "outputs": [
    {
     "name": "stdout",
     "output_type": "stream",
     "text": [
      "[[1. 0. 0.]\n",
      " [0. 1. 0.]\n",
      " [0. 0. 1.]]\n"
     ]
    }
   ],
   "source": [
    "ar_diag =np.eye(3)\n",
    "print(ar_diag)"
   ]
  },
  {
   "cell_type": "code",
   "execution_count": 22,
   "id": "d959ed57",
   "metadata": {},
   "outputs": [
    {
     "name": "stdout",
     "output_type": "stream",
     "text": [
      "[[1. 0. 0. 0. 0.]\n",
      " [0. 1. 0. 0. 0.]\n",
      " [0. 0. 1. 0. 0.]]\n"
     ]
    }
   ],
   "source": [
    "ar_diag = np.eye(3, 5)\n",
    "print(ar_diag)"
   ]
  },
  {
   "cell_type": "markdown",
   "id": "d26327f2",
   "metadata": {},
   "source": [
    "# Spacial matrix array Linespace"
   ]
  },
  {
   "cell_type": "code",
   "execution_count": 25,
   "id": "260ea900",
   "metadata": {},
   "outputs": [
    {
     "name": "stdout",
     "output_type": "stream",
     "text": [
      "[ 0.   2.5  5.   7.5 10. ]\n"
     ]
    }
   ],
   "source": [
    "ar_lin = np.linspace(0, 10, num=5)\n",
    "print(ar_lin)"
   ]
  },
  {
   "cell_type": "markdown",
   "id": "0f5a53d0",
   "metadata": {},
   "source": [
    "# Random numbers\n",
    "\n",
    "# Rand() (between 0 to 1)"
   ]
  },
  {
   "cell_type": "code",
   "execution_count": 26,
   "id": "6992ee2a",
   "metadata": {},
   "outputs": [
    {
     "name": "stdout",
     "output_type": "stream",
     "text": [
      "[0.81668884 0.05311617 0.22718445 0.89728265]\n"
     ]
    }
   ],
   "source": [
    "var = np.random.rand(4) # 4 values 1-d\n",
    "print(var)"
   ]
  },
  {
   "cell_type": "code",
   "execution_count": 27,
   "id": "71addc80",
   "metadata": {},
   "outputs": [
    {
     "name": "stdout",
     "output_type": "stream",
     "text": [
      "[[0.9236258  0.77678526 0.96371911 0.2796674  0.71727462]\n",
      " [0.42995512 0.84659215 0.04390565 0.19447327 0.22942361]]\n"
     ]
    }
   ],
   "source": [
    "var = np.random.rand(2,5)\n",
    "print(var)"
   ]
  },
  {
   "cell_type": "markdown",
   "id": "868530ad",
   "metadata": {},
   "source": [
    "# randn() (close to zero either +ve or -ve)"
   ]
  },
  {
   "cell_type": "code",
   "execution_count": 28,
   "id": "a93df77d",
   "metadata": {},
   "outputs": [
    {
     "name": "stdout",
     "output_type": "stream",
     "text": [
      "[-2.70849865  0.48270248  0.40397038 -0.1725525   0.14287689]\n"
     ]
    }
   ],
   "source": [
    "var = np.random.randn(5)\n",
    "print(var)"
   ]
  },
  {
   "cell_type": "markdown",
   "id": "2ff8a1ac",
   "metadata": {},
   "source": [
    "# ranf() (between 0 to 1, 0 included, 1 excluded)"
   ]
  },
  {
   "cell_type": "code",
   "execution_count": 30,
   "id": "565ece01",
   "metadata": {},
   "outputs": [
    {
     "name": "stdout",
     "output_type": "stream",
     "text": [
      "[0.68132926 0.40580477 0.21110319 0.89539529 0.407328  ]\n"
     ]
    }
   ],
   "source": [
    "var = np.random.ranf(5)\n",
    "print(var)"
   ]
  },
  {
   "cell_type": "markdown",
   "id": "d6d16afe",
   "metadata": {},
   "source": [
    "# randint(min, max, total_values)"
   ]
  },
  {
   "cell_type": "code",
   "execution_count": 31,
   "id": "c4006f12",
   "metadata": {},
   "outputs": [
    {
     "name": "stdout",
     "output_type": "stream",
     "text": [
      "[18 13 11 10 14 11 11]\n"
     ]
    }
   ],
   "source": [
    "var = np.random.randint(5, 20, 7)\n",
    "print(var)"
   ]
  },
  {
   "cell_type": "code",
   "execution_count": null,
   "id": "89602df0",
   "metadata": {},
   "outputs": [],
   "source": []
  }
 ],
 "metadata": {
  "kernelspec": {
   "display_name": "Python 3 (ipykernel)",
   "language": "python",
   "name": "python3"
  },
  "language_info": {
   "codemirror_mode": {
    "name": "ipython",
    "version": 3
   },
   "file_extension": ".py",
   "mimetype": "text/x-python",
   "name": "python",
   "nbconvert_exporter": "python",
   "pygments_lexer": "ipython3",
   "version": "3.11.5"
  }
 },
 "nbformat": 4,
 "nbformat_minor": 5
}
