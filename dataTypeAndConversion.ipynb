{
 "cells": [
  {
   "cell_type": "markdown",
   "id": "74fda9a7",
   "metadata": {},
   "source": [
    "# Data type"
   ]
  },
  {
   "cell_type": "code",
   "execution_count": 2,
   "id": "3eb85459",
   "metadata": {},
   "outputs": [
    {
     "name": "stdout",
     "output_type": "stream",
     "text": [
      "Data type :  int64\n"
     ]
    }
   ],
   "source": [
    "import numpy as np\n",
    "\n",
    "var = np.array([1,2,3,4]) # array of integer data types\n",
    "print(\"Data type : \", var.dtype)"
   ]
  },
  {
   "cell_type": "code",
   "execution_count": 3,
   "id": "416b2d3d",
   "metadata": {},
   "outputs": [
    {
     "name": "stdout",
     "output_type": "stream",
     "text": [
      "Data type :  float64\n"
     ]
    }
   ],
   "source": [
    "var = np.array([1.4,2.5,3.1,4.0]) # array of float data types\n",
    "print(\"Data type : \", var.dtype)"
   ]
  },
  {
   "cell_type": "code",
   "execution_count": 5,
   "id": "77b5141d",
   "metadata": {},
   "outputs": [
    {
     "name": "stdout",
     "output_type": "stream",
     "text": [
      "Data type :  <U1\n"
     ]
    }
   ],
   "source": [
    "var = np.array([\"A\",\"B\",\"C\",\"d\"]) # array of unicode string data types <U1 , <U2 etc\n",
    "print(\"Data type : \", var.dtype)"
   ]
  },
  {
   "cell_type": "code",
   "execution_count": 6,
   "id": "9d6a71d8",
   "metadata": {},
   "outputs": [
    {
     "name": "stdout",
     "output_type": "stream",
     "text": [
      "Data type :  <U21\n"
     ]
    }
   ],
   "source": [
    "var = np.array([1,2,3,4, \"A\"]) # array of number and string data types <U11 , <U12 etc\n",
    "print(\"Data type : \", var.dtype)"
   ]
  },
  {
   "cell_type": "code",
   "execution_count": 8,
   "id": "10cad261",
   "metadata": {},
   "outputs": [
    {
     "name": "stdout",
     "output_type": "stream",
     "text": [
      "Data type :  int8\n"
     ]
    }
   ],
   "source": [
    "var = np.array([1,2,3,4], dtype = np.int8) # convert to int8\n",
    "print(\"Data type : \", var.dtype)"
   ]
  },
  {
   "cell_type": "code",
   "execution_count": 9,
   "id": "a7b71216",
   "metadata": {},
   "outputs": [
    {
     "name": "stdout",
     "output_type": "stream",
     "text": [
      "Data type :  float32\n"
     ]
    }
   ],
   "source": [
    "var = np.array([1,2,3,4], dtype = \"f\") # convert to float (if know short hand)\n",
    "print(\"Data type : \", var.dtype)"
   ]
  },
  {
   "cell_type": "code",
   "execution_count": 11,
   "id": "e1fe1423",
   "metadata": {},
   "outputs": [
    {
     "name": "stdout",
     "output_type": "stream",
     "text": [
      "Data type :  int64\n",
      "Data type :  float32\n",
      "Data type :  int64\n",
      "[1 2 3 4]\n",
      "[1. 2. 3. 4.]\n",
      "[1 2 3 4]\n"
     ]
    }
   ],
   "source": [
    "var = np.array([1,2,3,4]) # array of integer data types\n",
    "new = np.float32(var) # convert to float\n",
    "revert = np.int_(new) # revert\n",
    "print(\"Data type : \", var.dtype)\n",
    "print(\"Data type : \", new.dtype)\n",
    "print(\"Data type : \", revert.dtype)\n",
    "\n",
    "print(var)\n",
    "print(new)\n",
    "print(revert)"
   ]
  },
  {
   "cell_type": "code",
   "execution_count": 12,
   "id": "a6cceeeb",
   "metadata": {},
   "outputs": [
    {
     "name": "stdout",
     "output_type": "stream",
     "text": [
      "[1 2 3 4]\n",
      "[1. 2. 3. 4.]\n"
     ]
    }
   ],
   "source": [
    "var = np.array([1,2,3,4])\n",
    "new = var.astype(float)\n",
    "\n",
    "print(var)\n",
    "print(new)"
   ]
  },
  {
   "cell_type": "code",
   "execution_count": null,
   "id": "11cf01c9",
   "metadata": {},
   "outputs": [],
   "source": []
  }
 ],
 "metadata": {
  "kernelspec": {
   "display_name": "Python 3 (ipykernel)",
   "language": "python",
   "name": "python3"
  },
  "language_info": {
   "codemirror_mode": {
    "name": "ipython",
    "version": 3
   },
   "file_extension": ".py",
   "mimetype": "text/x-python",
   "name": "python",
   "nbconvert_exporter": "python",
   "pygments_lexer": "ipython3",
   "version": "3.11.5"
  }
 },
 "nbformat": 4,
 "nbformat_minor": 5
}
