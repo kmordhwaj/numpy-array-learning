{
 "cells": [
  {
   "cell_type": "markdown",
   "id": "b89cdeaa",
   "metadata": {},
   "source": [
    "# Join Array"
   ]
  },
  {
   "cell_type": "code",
   "execution_count": 1,
   "id": "d9b8ae21",
   "metadata": {},
   "outputs": [],
   "source": [
    "import numpy as np"
   ]
  },
  {
   "cell_type": "markdown",
   "id": "7b1333fd",
   "metadata": {},
   "source": [
    "# using concatenate"
   ]
  },
  {
   "cell_type": "code",
   "execution_count": 3,
   "id": "34e45280",
   "metadata": {},
   "outputs": [
    {
     "name": "stdout",
     "output_type": "stream",
     "text": [
      "[ 1  2  3  4 10 20 30 40]\n"
     ]
    }
   ],
   "source": [
    "# 1-D\n",
    "arr1 = np.array([1, 2, 3, 4])\n",
    "arr2 = np.array([10, 20, 30, 40])\n",
    "\n",
    "merged_arr = np.concatenate((arr1, arr2))\n",
    "print(merged_arr)"
   ]
  },
  {
   "cell_type": "code",
   "execution_count": 5,
   "id": "008bb913",
   "metadata": {},
   "outputs": [
    {
     "name": "stdout",
     "output_type": "stream",
     "text": [
      "[[1 2]\n",
      " [3 4]]\n",
      "\n",
      "[[10 20]\n",
      " [30 40]]\n",
      "\n",
      "[[ 1  2 10 20]\n",
      " [ 3  4 30 40]]\n"
     ]
    }
   ],
   "source": [
    "# 2-D\n",
    "arr1 = np.array([[1, 2], [3, 4]])\n",
    "arr2 = np.array([[10, 20], [30, 40]])\n",
    "\n",
    "merged_arr = np.concatenate((arr1, arr2), axis=1) # 1 -> along row, 0 -> along column\n",
    "print(arr1)\n",
    "print()\n",
    "print(arr2)\n",
    "print()\n",
    "print(merged_arr)"
   ]
  },
  {
   "cell_type": "code",
   "execution_count": 6,
   "id": "1e1d7e7c",
   "metadata": {},
   "outputs": [
    {
     "name": "stdout",
     "output_type": "stream",
     "text": [
      "[[1 2]\n",
      " [3 4]]\n",
      "\n",
      "[[10 20]\n",
      " [30 40]]\n",
      "\n",
      "[[ 1  2]\n",
      " [ 3  4]\n",
      " [10 20]\n",
      " [30 40]]\n"
     ]
    }
   ],
   "source": [
    "# 2-D\n",
    "arr1 = np.array([[1, 2], [3, 4]])\n",
    "arr2 = np.array([[10, 20], [30, 40]])\n",
    "\n",
    "merged_arr = np.concatenate((arr1, arr2), axis=0) # 1 -> along row, 0 -> along column\n",
    "print(arr1)\n",
    "print()\n",
    "print(arr2)\n",
    "print()\n",
    "print(merged_arr)"
   ]
  },
  {
   "cell_type": "markdown",
   "id": "6cda8851",
   "metadata": {},
   "source": [
    "# using stack"
   ]
  },
  {
   "cell_type": "code",
   "execution_count": 7,
   "id": "88e807fd",
   "metadata": {},
   "outputs": [
    {
     "name": "stdout",
     "output_type": "stream",
     "text": [
      "[[ 1 10]\n",
      " [ 2 20]\n",
      " [ 3 30]\n",
      " [ 4 40]]\n"
     ]
    }
   ],
   "source": [
    "# 1-D\n",
    "arr1 = np.array([1, 2, 3, 4])\n",
    "arr2 = np.array([10, 20, 30, 40])\n",
    "\n",
    "merged_arr = np.stack((arr1, arr2), axis = 1) # 1 -> along row, 0 -> along column\n",
    "print(merged_arr)"
   ]
  },
  {
   "cell_type": "code",
   "execution_count": 8,
   "id": "cf71e274",
   "metadata": {},
   "outputs": [
    {
     "name": "stdout",
     "output_type": "stream",
     "text": [
      "[[ 1  2  3  4]\n",
      " [10 20 30 40]]\n"
     ]
    }
   ],
   "source": [
    "# 1-D\n",
    "arr1 = np.array([1, 2, 3, 4])\n",
    "arr2 = np.array([10, 20, 30, 40])\n",
    "\n",
    "merged_arr = np.stack((arr1, arr2), axis = 0) # 1 -> along row, 0 -> along column\n",
    "print(merged_arr)"
   ]
  },
  {
   "cell_type": "code",
   "execution_count": 9,
   "id": "e62f57fa",
   "metadata": {},
   "outputs": [
    {
     "name": "stdout",
     "output_type": "stream",
     "text": [
      "[ 1  2  3  4 10 20 30 40]\n"
     ]
    }
   ],
   "source": [
    "# 1-D\n",
    "arr1 = np.array([1, 2, 3, 4])\n",
    "arr2 = np.array([10, 20, 30, 40])\n",
    "\n",
    "merged_arr = np.hstack((arr1, arr2)) # h -> along row (horizontally)\n",
    "print(merged_arr)"
   ]
  },
  {
   "cell_type": "code",
   "execution_count": 10,
   "id": "2934f04e",
   "metadata": {},
   "outputs": [
    {
     "name": "stdout",
     "output_type": "stream",
     "text": [
      "[[ 1  2  3  4]\n",
      " [10 20 30 40]]\n"
     ]
    }
   ],
   "source": [
    "# 1-D\n",
    "arr1 = np.array([1, 2, 3, 4])\n",
    "arr2 = np.array([10, 20, 30, 40])\n",
    "\n",
    "merged_arr = np.vstack((arr1, arr2)) # v -> along column (vertically)\n",
    "print(merged_arr)"
   ]
  },
  {
   "cell_type": "code",
   "execution_count": 11,
   "id": "c3d0bc2d",
   "metadata": {},
   "outputs": [
    {
     "name": "stdout",
     "output_type": "stream",
     "text": [
      "[[[ 1 10]\n",
      "  [ 2 20]\n",
      "  [ 3 30]\n",
      "  [ 4 40]]]\n"
     ]
    }
   ],
   "source": [
    "# 1-D\n",
    "arr1 = np.array([1, 2, 3, 4])\n",
    "arr2 = np.array([10, 20, 30, 40])\n",
    "\n",
    "merged_arr = np.dstack((arr1, arr2)) # d -> along height (diagonally)\n",
    "print(merged_arr)"
   ]
  },
  {
   "cell_type": "markdown",
   "id": "91cb09a6",
   "metadata": {},
   "source": [
    "# Split Array"
   ]
  },
  {
   "cell_type": "code",
   "execution_count": 13,
   "id": "bc403686",
   "metadata": {},
   "outputs": [
    {
     "name": "stdout",
     "output_type": "stream",
     "text": [
      "[1 2 3 4]\n",
      "\n",
      "[array([1, 2]), array([3, 4])]\n",
      "\n",
      "[1 2]\n",
      "[3 4]\n"
     ]
    }
   ],
   "source": [
    "# 1-D\n",
    "arr = np.array([1, 2, 3, 4])\n",
    "print(arr)\n",
    "splt = np.array_split(arr, 2) # in two equal parts\n",
    "print()\n",
    "print(splt)\n",
    "print()\n",
    "print(splt[0])\n",
    "print(splt[1])"
   ]
  },
  {
   "cell_type": "code",
   "execution_count": 14,
   "id": "c8f513a9",
   "metadata": {},
   "outputs": [
    {
     "name": "stdout",
     "output_type": "stream",
     "text": [
      "[[1 2]\n",
      " [3 4]]\n",
      "\n",
      "[array([[1, 2]]), array([[3, 4]])]\n",
      "\n",
      "[[1 2]]\n",
      "[[3 4]]\n"
     ]
    }
   ],
   "source": [
    "# 2-D\n",
    "arr = np.array([[1, 2], [3, 4]])\n",
    "print(arr)\n",
    "splt = np.array_split(arr, 2) # in two equal parts\n",
    "print()\n",
    "print(splt)\n",
    "print()\n",
    "print(splt[0])\n",
    "print(splt[1])"
   ]
  },
  {
   "cell_type": "code",
   "execution_count": null,
   "id": "a81f93d6",
   "metadata": {},
   "outputs": [],
   "source": [
    "# 2-D\n",
    "arr = np.array([[1, 2], [3, 4]])\n",
    "print(arr)\n",
    "splt = np.array_split(arr, 2, axis = 0) # in two equal parts\n",
    "print()\n",
    "print(splt)\n",
    "print()\n",
    "print(splt[0])\n",
    "print(splt[1])"
   ]
  }
 ],
 "metadata": {
  "kernelspec": {
   "display_name": "Python 3 (ipykernel)",
   "language": "python",
   "name": "python3"
  },
  "language_info": {
   "codemirror_mode": {
    "name": "ipython",
    "version": 3
   },
   "file_extension": ".py",
   "mimetype": "text/x-python",
   "name": "python",
   "nbconvert_exporter": "python",
   "pygments_lexer": "ipython3",
   "version": "3.11.5"
  }
 },
 "nbformat": 4,
 "nbformat_minor": 5
}
