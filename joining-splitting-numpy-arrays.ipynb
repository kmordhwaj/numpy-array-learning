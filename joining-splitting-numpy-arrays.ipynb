{
 "cells": [
  {
   "cell_type": "markdown",
   "id": "cf833c28",
   "metadata": {},
   "source": [
    "# Join Array"
   ]
  },
  {
   "cell_type": "code",
   "execution_count": 1,
   "id": "2bbca476",
   "metadata": {},
   "outputs": [],
   "source": [
    "import numpy as np"
   ]
  },
  {
   "cell_type": "markdown",
   "id": "c938027a",
   "metadata": {},
   "source": [
    "# using concatenate"
   ]
  },
  {
   "cell_type": "code",
   "execution_count": 3,
   "id": "e3a3170a",
   "metadata": {},
   "outputs": [
    {
     "name": "stdout",
     "output_type": "stream",
     "text": [
      "[ 1  2  3  4 10 20 30 40]\n"
     ]
    }
   ],
   "source": [
    "# 1-D\n",
    "arr1 = np.array([1, 2, 3, 4])\n",
    "arr2 = np.array([10, 20, 30, 40])\n",
    "\n",
    "merged_arr = np.concatenate((arr1, arr2))\n",
    "print(merged_arr)"
   ]
  },
  {
   "cell_type": "code",
   "execution_count": 5,
   "id": "6967e7bd",
   "metadata": {},
   "outputs": [
    {
     "name": "stdout",
     "output_type": "stream",
     "text": [
      "[[1 2]\n",
      " [3 4]]\n",
      "\n",
      "[[10 20]\n",
      " [30 40]]\n",
      "\n",
      "[[ 1  2 10 20]\n",
      " [ 3  4 30 40]]\n"
     ]
    }
   ],
   "source": [
    "# 2-D\n",
    "arr1 = np.array([[1, 2], [3, 4]])\n",
    "arr2 = np.array([[10, 20], [30, 40]])\n",
    "\n",
    "merged_arr = np.concatenate((arr1, arr2), axis=1) # 1 -> along row, 0 -> along column\n",
    "print(arr1)\n",
    "print()\n",
    "print(arr2)\n",
    "print()\n",
    "print(merged_arr)"
   ]
  },
  {
   "cell_type": "code",
   "execution_count": 6,
   "id": "f3fb9dc4",
   "metadata": {},
   "outputs": [
    {
     "name": "stdout",
     "output_type": "stream",
     "text": [
      "[[1 2]\n",
      " [3 4]]\n",
      "\n",
      "[[10 20]\n",
      " [30 40]]\n",
      "\n",
      "[[ 1  2]\n",
      " [ 3  4]\n",
      " [10 20]\n",
      " [30 40]]\n"
     ]
    }
   ],
   "source": [
    "# 2-D\n",
    "arr1 = np.array([[1, 2], [3, 4]])\n",
    "arr2 = np.array([[10, 20], [30, 40]])\n",
    "\n",
    "merged_arr = np.concatenate((arr1, arr2), axis=0) # 1 -> along row, 0 -> along column\n",
    "print(arr1)\n",
    "print()\n",
    "print(arr2)\n",
    "print()\n",
    "print(merged_arr)"
   ]
  },
  {
   "cell_type": "markdown",
   "id": "f2d0c797",
   "metadata": {},
   "source": [
    "# using stack"
   ]
  },
  {
   "cell_type": "code",
   "execution_count": 7,
   "id": "902fd508",
   "metadata": {},
   "outputs": [
    {
     "name": "stdout",
     "output_type": "stream",
     "text": [
      "[[ 1 10]\n",
      " [ 2 20]\n",
      " [ 3 30]\n",
      " [ 4 40]]\n"
     ]
    }
   ],
   "source": [
    "# 1-D\n",
    "arr1 = np.array([1, 2, 3, 4])\n",
    "arr2 = np.array([10, 20, 30, 40])\n",
    "\n",
    "merged_arr = np.stack((arr1, arr2), axis = 1) # 1 -> along row, 0 -> along column\n",
    "print(merged_arr)"
   ]
  },
  {
   "cell_type": "code",
   "execution_count": 8,
   "id": "f0c891d9",
   "metadata": {},
   "outputs": [
    {
     "name": "stdout",
     "output_type": "stream",
     "text": [
      "[[ 1  2  3  4]\n",
      " [10 20 30 40]]\n"
     ]
    }
   ],
   "source": [
    "# 1-D\n",
    "arr1 = np.array([1, 2, 3, 4])\n",
    "arr2 = np.array([10, 20, 30, 40])\n",
    "\n",
    "merged_arr = np.stack((arr1, arr2), axis = 0) # 1 -> along row, 0 -> along column\n",
    "print(merged_arr)"
   ]
  },
  {
   "cell_type": "code",
   "execution_count": 9,
   "id": "e44aa2df",
   "metadata": {},
   "outputs": [
    {
     "name": "stdout",
     "output_type": "stream",
     "text": [
      "[ 1  2  3  4 10 20 30 40]\n"
     ]
    }
   ],
   "source": [
    "# 1-D\n",
    "arr1 = np.array([1, 2, 3, 4])\n",
    "arr2 = np.array([10, 20, 30, 40])\n",
    "\n",
    "merged_arr = np.hstack((arr1, arr2)) # h -> along row (horizontally)\n",
    "print(merged_arr)"
   ]
  },
  {
   "cell_type": "code",
   "execution_count": 10,
   "id": "9174be16",
   "metadata": {},
   "outputs": [
    {
     "name": "stdout",
     "output_type": "stream",
     "text": [
      "[[ 1  2  3  4]\n",
      " [10 20 30 40]]\n"
     ]
    }
   ],
   "source": [
    "# 1-D\n",
    "arr1 = np.array([1, 2, 3, 4])\n",
    "arr2 = np.array([10, 20, 30, 40])\n",
    "\n",
    "merged_arr = np.vstack((arr1, arr2)) # v -> along column (vertically)\n",
    "print(merged_arr)"
   ]
  },
  {
   "cell_type": "code",
   "execution_count": 11,
   "id": "7528d150",
   "metadata": {},
   "outputs": [
    {
     "name": "stdout",
     "output_type": "stream",
     "text": [
      "[[[ 1 10]\n",
      "  [ 2 20]\n",
      "  [ 3 30]\n",
      "  [ 4 40]]]\n"
     ]
    }
   ],
   "source": [
    "# 1-D\n",
    "arr1 = np.array([1, 2, 3, 4])\n",
    "arr2 = np.array([10, 20, 30, 40])\n",
    "\n",
    "merged_arr = np.dstack((arr1, arr2)) # d -> along height (diagonally)\n",
    "print(merged_arr)"
   ]
  },
  {
   "cell_type": "markdown",
   "id": "48e73355",
   "metadata": {},
   "source": [
    "# Split Array"
   ]
  },
  {
   "cell_type": "code",
   "execution_count": 13,
   "id": "5a1c9a57",
   "metadata": {},
   "outputs": [
    {
     "name": "stdout",
     "output_type": "stream",
     "text": [
      "[1 2 3 4]\n",
      "\n",
      "[array([1, 2]), array([3, 4])]\n",
      "\n",
      "[1 2]\n",
      "[3 4]\n"
     ]
    }
   ],
   "source": [
    "# 1-D\n",
    "arr = np.array([1, 2, 3, 4])\n",
    "print(arr)\n",
    "splt = np.array_split(arr, 2) # in two equal parts\n",
    "print()\n",
    "print(splt)\n",
    "print()\n",
    "print(splt[0])\n",
    "print(splt[1])"
   ]
  },
  {
   "cell_type": "code",
   "execution_count": 14,
   "id": "ee09e164",
   "metadata": {},
   "outputs": [
    {
     "name": "stdout",
     "output_type": "stream",
     "text": [
      "[[1 2]\n",
      " [3 4]]\n",
      "\n",
      "[array([[1, 2]]), array([[3, 4]])]\n",
      "\n",
      "[[1 2]]\n",
      "[[3 4]]\n"
     ]
    }
   ],
   "source": [
    "# 2-D\n",
    "arr = np.array([[1, 2], [3, 4]])\n",
    "print(arr)\n",
    "splt = np.array_split(arr, 2) # in two equal parts\n",
    "print()\n",
    "print(splt)\n",
    "print()\n",
    "print(splt[0])\n",
    "print(splt[1])"
   ]
  },
  {
   "cell_type": "code",
   "execution_count": 15,
   "id": "bd705142",
   "metadata": {},
   "outputs": [
    {
     "name": "stdout",
     "output_type": "stream",
     "text": [
      "[[1 2]\n",
      " [3 4]]\n",
      "\n",
      "[array([[1, 2]]), array([[3, 4]])]\n",
      "\n",
      "[[1 2]]\n",
      "[[3 4]]\n"
     ]
    }
   ],
   "source": [
    "# 2-D\n",
    "arr = np.array([[1, 2], [3, 4]])\n",
    "print(arr)\n",
    "splt = np.array_split(arr, 2, axis = 0) # in two equal parts \n",
    "print()\n",
    "print(splt)\n",
    "print()\n",
    "print(splt[0])\n",
    "print(splt[1])"
   ]
  },
  {
   "cell_type": "code",
   "execution_count": 16,
   "id": "f8afdaeb",
   "metadata": {},
   "outputs": [
    {
     "name": "stdout",
     "output_type": "stream",
     "text": [
      "[[1 2]\n",
      " [3 4]]\n",
      "\n",
      "[array([[1],\n",
      "       [3]]), array([[2],\n",
      "       [4]])]\n",
      "\n",
      "[[1]\n",
      " [3]]\n",
      "[[2]\n",
      " [4]]\n"
     ]
    }
   ],
   "source": [
    "# 2-D\n",
    "arr = np.array([[1, 2], [3, 4]])\n",
    "print(arr)\n",
    "splt = np.array_split(arr, 2, axis = 1) # in two equal parts \n",
    "print()\n",
    "print(splt)\n",
    "print()\n",
    "print(splt[0])\n",
    "print(splt[1])"
   ]
  },
  {
   "cell_type": "code",
   "execution_count": null,
   "id": "5d2e9bbf",
   "metadata": {},
   "outputs": [],
   "source": []
  }
 ],
 "metadata": {
  "kernelspec": {
   "display_name": "Python 3 (ipykernel)",
   "language": "python",
   "name": "python3"
  },
  "language_info": {
   "codemirror_mode": {
    "name": "ipython",
    "version": 3
   },
   "file_extension": ".py",
   "mimetype": "text/x-python",
   "name": "python",
   "nbconvert_exporter": "python",
   "pygments_lexer": "ipython3",
   "version": "3.11.5"
  }
 },
 "nbformat": 4,
 "nbformat_minor": 5
}
