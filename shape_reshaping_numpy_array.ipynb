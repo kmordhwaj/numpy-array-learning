{
 "cells": [
  {
   "cell_type": "markdown",
   "id": "931e35e3",
   "metadata": {},
   "source": [
    "# Shape"
   ]
  },
  {
   "cell_type": "code",
   "execution_count": 1,
   "id": "f54e9b82",
   "metadata": {},
   "outputs": [
    {
     "name": "stdout",
     "output_type": "stream",
     "text": [
      "(2, 2)\n"
     ]
    }
   ],
   "source": [
    "import numpy as np\n",
    "\n",
    "var = np.array([[1,2], [3, 4]]) # 2x2 matrix\n",
    "print(var.shape)"
   ]
  },
  {
   "cell_type": "code",
   "execution_count": 2,
   "id": "9d55602c",
   "metadata": {},
   "outputs": [
    {
     "name": "stdout",
     "output_type": "stream",
     "text": [
      "(2, 4)\n"
     ]
    }
   ],
   "source": [
    "var = np.array([[1,2, 3, 4], [3, 4, 5, 0]]) # 2x4 matrix\n",
    "print(var.shape)"
   ]
  },
  {
   "cell_type": "code",
   "execution_count": 3,
   "id": "39ba6295",
   "metadata": {},
   "outputs": [
    {
     "name": "stdout",
     "output_type": "stream",
     "text": [
      "[[[[1 2 3 4]]]]\n",
      "4\n",
      "(1, 1, 1, 4)\n"
     ]
    }
   ],
   "source": [
    "var = np.array([1,2, 3, 4], ndmin = 4) # 2x2 matrix\n",
    "print(var)\n",
    "print(var.ndim)\n",
    "print(var.shape)"
   ]
  },
  {
   "cell_type": "markdown",
   "id": "cefcd252",
   "metadata": {},
   "source": [
    "# Reshape"
   ]
  },
  {
   "cell_type": "code",
   "execution_count": 13,
   "id": "4beca436",
   "metadata": {},
   "outputs": [
    {
     "name": "stdout",
     "output_type": "stream",
     "text": [
      "1\n",
      "[1 2 3 4 5 6]\n",
      "\n",
      "2\n",
      "[[1]\n",
      " [2]\n",
      " [3]\n",
      " [4]\n",
      " [5]\n",
      " [6]]\n"
     ]
    }
   ],
   "source": [
    "var = np.array([1, 2, 3, 4, 5, 6]) # 1-D 1x6  1 2 3 4 5 6 in metrix\n",
    "print(var.ndim)\n",
    "print(var)\n",
    "res = var.reshape(3, 2) # 3x2(2-D) or 2x3(2-D) or 6x1(1-D) possible\n",
    "print()\n",
    "print(res.ndim)\n",
    "print(res)"
   ]
  },
  {
   "cell_type": "code",
   "execution_count": 17,
   "id": "c001fe9a",
   "metadata": {},
   "outputs": [
    {
     "name": "stdout",
     "output_type": "stream",
     "text": [
      "1\n",
      "[1 2 3 4 5 6 7 8 9]\n",
      "\n",
      "3\n",
      "[[[1]\n",
      "  [2]\n",
      "  [3]]\n",
      "\n",
      " [[4]\n",
      "  [5]\n",
      "  [6]]\n",
      "\n",
      " [[7]\n",
      "  [8]\n",
      "  [9]]]\n",
      "\n",
      "1\n",
      "[1 2 3 4 5 6 7 8 9]\n"
     ]
    }
   ],
   "source": [
    "var = np.array([1, 2, 3, 4, 5, 6, 7, 8, 9]) # 1-D 1x9  1 2 3 4 5 6 7 8 9 in metrix\n",
    "print(var.ndim)\n",
    "print(var)\n",
    "res = var.reshape(3, 3, 1) # 3x3x1(3-D) or 9x1(1-D) possible\n",
    "print()\n",
    "print(res.ndim)\n",
    "print(res)\n",
    "revertOneD = res.reshape(-1) # revert to 1-D\n",
    "print()\n",
    "print(revertOneD.ndim)\n",
    "print(revertOneD)"
   ]
  },
  {
   "cell_type": "code",
   "execution_count": null,
   "id": "cba23ac0",
   "metadata": {},
   "outputs": [],
   "source": []
  }
 ],
 "metadata": {
  "kernelspec": {
   "display_name": "Python 3 (ipykernel)",
   "language": "python",
   "name": "python3"
  },
  "language_info": {
   "codemirror_mode": {
    "name": "ipython",
    "version": 3
   },
   "file_extension": ".py",
   "mimetype": "text/x-python",
   "name": "python",
   "nbconvert_exporter": "python",
   "pygments_lexer": "ipython3",
   "version": "3.11.5"
  }
 },
 "nbformat": 4,
 "nbformat_minor": 5
}
