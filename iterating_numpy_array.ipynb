{
 "cells": [
  {
   "cell_type": "markdown",
   "id": "7c3d7518",
   "metadata": {},
   "source": [
    "# Iteration"
   ]
  },
  {
   "cell_type": "code",
   "execution_count": 1,
   "id": "ddacce7d",
   "metadata": {},
   "outputs": [],
   "source": [
    "import numpy as np"
   ]
  },
  {
   "cell_type": "markdown",
   "id": "e7600e1b",
   "metadata": {},
   "source": [
    "# using traditional for-in loop"
   ]
  },
  {
   "cell_type": "code",
   "execution_count": 5,
   "id": "31a5cb48",
   "metadata": {},
   "outputs": [
    {
     "name": "stdout",
     "output_type": "stream",
     "text": [
      "1\n",
      "[1 2 3 4]\n",
      "\n",
      "1\n",
      "2\n",
      "3\n",
      "4\n"
     ]
    }
   ],
   "source": [
    "# for 1-D\n",
    "arr = np.array([1, 2, 3, 4])\n",
    "print(arr.ndim)\n",
    "print(arr)\n",
    "print()\n",
    "for i in arr:\n",
    "    print(i)"
   ]
  },
  {
   "cell_type": "code",
   "execution_count": 6,
   "id": "b342da20",
   "metadata": {},
   "outputs": [
    {
     "name": "stdout",
     "output_type": "stream",
     "text": [
      "2\n",
      "[[1 2 3 4]\n",
      " [5 6 7 8]]\n",
      "\n",
      "[1 2 3 4]\n",
      "[5 6 7 8]\n",
      "\n",
      "5\n",
      "6\n",
      "7\n",
      "8\n",
      "5\n",
      "6\n",
      "7\n",
      "8\n"
     ]
    }
   ],
   "source": [
    "# for 2-D\n",
    "arr = np.array([[1, 2, 3, 4], [5, 6, 7, 8]])\n",
    "print(arr.ndim)\n",
    "print(arr)\n",
    "print()\n",
    "\n",
    "for i in arr:\n",
    "    print(i)\n",
    "    \n",
    "print()\n",
    "\n",
    "for j in arr:\n",
    "    for k in i:\n",
    "        print(k)"
   ]
  },
  {
   "cell_type": "code",
   "execution_count": 7,
   "id": "7f3a9764",
   "metadata": {},
   "outputs": [
    {
     "name": "stdout",
     "output_type": "stream",
     "text": [
      "3\n",
      "[[[1 2 3 4]\n",
      "  [5 6 7 8]]]\n",
      "\n",
      "[[1 2 3 4]\n",
      " [5 6 7 8]]\n",
      "\n",
      "[1 2 3 4]\n",
      "[5 6 7 8]\n",
      "\n",
      "1\n",
      "2\n",
      "3\n",
      "4\n",
      "5\n",
      "6\n",
      "7\n",
      "8\n"
     ]
    }
   ],
   "source": [
    "# for 3-D\n",
    "arr = np.array([[[1, 2, 3, 4], [5, 6, 7, 8]]])\n",
    "print(arr.ndim)\n",
    "print(arr)\n",
    "print()\n",
    "\n",
    "for i in arr:\n",
    "    print(i)\n",
    "    \n",
    "print()\n",
    "\n",
    "for j in arr:\n",
    "    for k in i:\n",
    "        print(k)\n",
    "        \n",
    "print()\n",
    "\n",
    "for j in arr:\n",
    "    for k in i:\n",
    "        for l in k:\n",
    "            print(l)"
   ]
  },
  {
   "cell_type": "markdown",
   "id": "e42299c9",
   "metadata": {},
   "source": [
    "# using for-in and np.nditer()"
   ]
  },
  {
   "cell_type": "code",
   "execution_count": 8,
   "id": "b43446e6",
   "metadata": {},
   "outputs": [
    {
     "name": "stdout",
     "output_type": "stream",
     "text": [
      "3\n",
      "[[[1 2 3 4]\n",
      "  [5 6 7 8]]]\n",
      "\n",
      "1\n",
      "2\n",
      "3\n",
      "4\n",
      "5\n",
      "6\n",
      "7\n",
      "8\n"
     ]
    }
   ],
   "source": [
    "arr = np.array([[[1, 2, 3, 4], [5, 6, 7, 8]]])\n",
    "print(arr.ndim)\n",
    "print(arr)\n",
    "print()\n",
    "\n",
    "for i in np.nditer(arr):\n",
    "    print(i)"
   ]
  },
  {
   "cell_type": "code",
   "execution_count": 9,
   "id": "f384e65c",
   "metadata": {},
   "outputs": [
    {
     "name": "stdout",
     "output_type": "stream",
     "text": [
      "3\n",
      "[[[1 2 3 4]\n",
      "  [5 6 7 8]]]\n",
      "\n",
      "b'1'\n",
      "b'2'\n",
      "b'3'\n",
      "b'4'\n",
      "b'5'\n",
      "b'6'\n",
      "b'7'\n",
      "b'8'\n"
     ]
    }
   ],
   "source": [
    "arr = np.array([[[1, 2, 3, 4], [5, 6, 7, 8]]])\n",
    "print(arr.ndim)\n",
    "print(arr)\n",
    "print()\n",
    "\n",
    "for i in np.nditer(arr, flags=['buffered'], op_dtypes=[\"S\"]):  # a buffer of String (S) data will generate\n",
    "    print(i)"
   ]
  },
  {
   "cell_type": "code",
   "execution_count": 10,
   "id": "0be5f632",
   "metadata": {},
   "outputs": [
    {
     "name": "stdout",
     "output_type": "stream",
     "text": [
      "3\n",
      "[[[1 2 3 4]\n",
      "  [5 6 7 8]]]\n",
      "\n",
      "(0, 0, 0) 1\n",
      "(0, 0, 1) 2\n",
      "(0, 0, 2) 3\n",
      "(0, 0, 3) 4\n",
      "(0, 1, 0) 5\n",
      "(0, 1, 1) 6\n",
      "(0, 1, 2) 7\n",
      "(0, 1, 3) 8\n"
     ]
    }
   ],
   "source": [
    "# iteration with values as well as their indexes\n",
    "arr = np.array([[[1, 2, 3, 4], [5, 6, 7, 8]]])\n",
    "print(arr.ndim)\n",
    "print(arr)\n",
    "print()\n",
    "\n",
    "for i, d in np.ndenumerate(arr):\n",
    "    print(i, d)"
   ]
  },
  {
   "cell_type": "code",
   "execution_count": null,
   "id": "f6d68d01",
   "metadata": {},
   "outputs": [],
   "source": []
  }
 ],
 "metadata": {
  "kernelspec": {
   "display_name": "Python 3 (ipykernel)",
   "language": "python",
   "name": "python3"
  },
  "language_info": {
   "codemirror_mode": {
    "name": "ipython",
    "version": 3
   },
   "file_extension": ".py",
   "mimetype": "text/x-python",
   "name": "python",
   "nbconvert_exporter": "python",
   "pygments_lexer": "ipython3",
   "version": "3.11.5"
  }
 },
 "nbformat": 4,
 "nbformat_minor": 5
}
